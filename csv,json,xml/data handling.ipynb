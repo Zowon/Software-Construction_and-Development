{
 "cells": [
  {
   "cell_type": "markdown",
   "metadata": {},
   "source": [
    "# Software Construction and Development Lab\n",
    "**Muhammad Saood Sarwar**\n",
    "\n",
    "**Instructor (CS), National University Of Computer and Emerging Sciences, Peshawar**."
   ]
  },
  {
   "cell_type": "markdown",
   "metadata": {},
   "source": [
    "# Data Formats and File Handling in Software Construction and Development\n",
    "\n",
    "In the context of **Software Construction and Development**, data formats and file handling are essential building blocks. They enable the software to interact with external systems, store data persistently, and communicate efficiently between different modules or applications. Managing data correctly ensures that software systems are robust, maintainable, and able to handle real-world tasks.\n",
    "\n",
    "## Data Formats in Software Construction\n",
    "\n",
    "Data formats define how information is structured, making it easier for software to process and exchange data. In software construction, understanding common data formats like **XML**, **JSON**, and **CSV** is crucial for creating software that can communicate with databases, APIs, and other systems.\n",
    "\n",
    "### Why Data Formats Matter in Software Construction:\n",
    "- **Interoperability**: When building software, data often needs to be exchanged between different applications. Data formats like JSON and XML ensure seamless communication between systems.\n",
    "- **Maintainability**: Well-structured data formats make it easier to maintain and extend the software. They help in organizing data flow and storage across components.\n",
    "- **Scalability**: Understanding data formats enables software to scale efficiently by managing large amounts of structured or unstructured data.\n",
    "\n",
    "---\n",
    "\n",
    "## File Handling in Software Construction\n",
    "\n",
    "File handling refers to reading from and writing to external files. In software construction, this is a common task, especially when working with data stored in different formats like text files, JSON, or CSV files.\n",
    "\n",
    "### Importance of File Handling in Software Construction:\n",
    "- **Data Persistence**: File handling ensures data is stored persistently, allowing the software to access it later, even after execution.\n",
    "- **Configuration Management**: Configuration files often use formats like JSON or XML. Understanding how to handle these files is key to developing configurable and flexible software.\n",
    "- **Logging and Debugging**: Log files are used in software construction for debugging and tracking the software’s state. Efficient file handling allows developers to maintain and analyze logs.\n",
    "\n"
   ]
  },
  {
   "cell_type": "markdown",
   "metadata": {},
   "source": [
    "# Introduction to Data Formats\n",
    "\n",
    "Data formats are standardized ways to encode information for storage or transmission. Choosing the right format depends on the nature of the data, the requirements of the application, and interoperability needs.\n",
    "\n",
    "---\n",
    "\n",
    "# XML (eXtensible Markup Language)\n",
    "\n",
    "## What is XML?\n",
    "\n",
    "XML stands for **eXtensible Markup Language**. It's a markup language designed to store and transport data in a human-readable and machine-readable format. Unlike HTML, which focuses on displaying data, XML emphasizes the structure and meaning of the data.\n",
    "\n",
    "---\n",
    "\n",
    "## Structure of XML\n",
    "\n",
    "XML uses a tree-like structure with nested elements enclosed in tags. Here's a simple example:\n",
    "\n",
    "```xml\n",
    "<?xml version=\"1.0\" encoding=\"UTF-8\"?>\n",
    "<students>\n",
    "    <student id=\"1\">\n",
    "        <name>John Doe</name>\n",
    "        <age>20</age>\n",
    "        <major>Computer Science</major>\n",
    "    </student>\n",
    "    <student id=\"2\">\n",
    "        <name>Jane Smith</name>\n",
    "        <age>22</age>\n",
    "        <major>Mathematics</major>\n",
    "    </student>\n",
    "</students>\n"
   ]
  },
  {
   "cell_type": "markdown",
   "metadata": {},
   "source": [
    "### Key Features:\n",
    "\n",
    "- **Tags**: Define elements (e.g., `<student>`, `<name>`).\n",
    "- **Attributes**: Provide additional information (e.g., `id=\"1\"`).\n",
    "- **Hierarchy**: Represents data in a nested, hierarchical manner.\n",
    "\n",
    "---\n",
    "\n",
    "### Use Cases of XML:\n",
    "\n",
    "- **Configuration Files**: Many applications use XML for settings (e.g., Microsoft Office).\n",
    "- **Data Exchange**: Facilitates data sharing between different systems, especially in enterprise environments.\n",
    "- **Web Services**: Often used in SOAP-based web services.\n",
    "\n",
    "---\n",
    "### The Difference Between XML and HTML\n",
    "\n",
    "XML and HTML were designed with different goals:\n",
    "\n",
    "- **XML** was designed to **carry data** — with a focus on what the data **is**.\n",
    "- **HTML** was designed to **display data** — with a focus on how the data **looks**.\n",
    "- **XML tags** are **not predefined** like **HTML tags** are.\n",
    "\n",
    "---\n",
    "\n",
    "In summary, XML is used for data storage and transport, focusing on structure and meaning, while HTML is used for rendering content, focusing on presentation and layout.\n",
    "\n",
    "### Working with XML in Python:\n",
    "\n",
    "Python provides several libraries to parse and manipulate XML, such as:\n",
    "- `xml.etree.ElementTree`\n",
    "- `lxml`\n"
   ]
  },
  {
   "cell_type": "code",
   "execution_count": 46,
   "metadata": {},
   "outputs": [
    {
     "name": "stdout",
     "output_type": "stream",
     "text": [
      "Name: John Doe, Age: 20, Major: Computer Science\n",
      "Name: Jane Smith, Age: 22, Major: Mathematics\n"
     ]
    }
   ],
   "source": [
    "import xml.etree.ElementTree as ET\n",
    "\n",
    "# Parse the XML file\n",
    "tree = ET.parse('students.xml')\n",
    "root = tree.getroot()\n",
    "\n",
    "# Iterate through each student\n",
    "for student in root.findall('student'):\n",
    "    name = student.find('name').text\n",
    "    age = student.find('age').text\n",
    "    major = student.find('major').text\n",
    "    print(f\"Name: {name}, Age: {age}, Major: {major}\")\n"
   ]
  },
  {
   "cell_type": "code",
   "execution_count": 47,
   "metadata": {},
   "outputs": [
    {
     "name": "stdout",
     "output_type": "stream",
     "text": [
      "Id: 1, Name: John Doe, Age: 20, Major: Computer Science\n",
      "Id: 2, Name: Jane Smith, Age: 22, Major: Mathematics\n"
     ]
    }
   ],
   "source": [
    "import xml.etree.ElementTree as ET\n",
    "\n",
    "# Parse the XML file\n",
    "tree = ET.parse('students.xml')\n",
    "root = tree.getroot()\n",
    "\n",
    "# Iterate through each student\n",
    "for student in root.findall('student'):\n",
    "    id1 = student.get('id')  # Access the 'id' attribute\n",
    "    name = student.find('name').text\n",
    "    age = student.find('age').text\n",
    "    major = student.find('major').text\n",
    "    print(f\"Id: {id1}, Name: {name}, Age: {age}, Major: {major}\")\n"
   ]
  },
  {
   "cell_type": "markdown",
   "metadata": {},
   "source": [
    "## Structure of XML\n",
    "\n",
    "XML uses a tree-like structure with nested elements enclosed in tags. Here's a simple example:\n",
    "\n",
    "```xml\n",
    "<?xml version=\"1.0\" encoding=\"UTF-8\"?>\n",
    "<bookstore>\n",
    "  <book category=\"cooking\">\n",
    "    <title lang=\"en\">Everyday Italian</title>\n",
    "    <author>Giada De Laurentiis</author>\n",
    "    <year>2005</year>\n",
    "    <price>30.00</price>\n",
    "  </book>\n",
    "  <book category=\"children\">\n",
    "    <title lang=\"en\">Harry Potter</title>\n",
    "    <author>J K. Rowling</author>\n",
    "    <year>2005</year>\n",
    "    <price>29.99</price>\n",
    "  </book>\n",
    "  <book category=\"web\">\n",
    "    <title lang=\"en\">Learning XML</title>\n",
    "    <author>Erik T. Ray</author>\n",
    "    <year>2003</year>\n",
    "    <price>39.95</price>\n",
    "  </book>\n",
    "</bookstore>"
   ]
  },
  {
   "cell_type": "markdown",
   "metadata": {},
   "source": [
    "![Sample Image](nodetree.gif)\n"
   ]
  },
  {
   "cell_type": "markdown",
   "metadata": {},
   "source": [
    "# UTF-8 and XML\n",
    "\n",
    "## UTF-8 Encoding\n",
    "\n",
    "UTF-8 stands for **Unicode Transformation Format - 8-bit**. It's a widely used character encoding that can represent every character in the Unicode standard.\n",
    "\n",
    "## XML Version Attribute\n",
    "\n",
    "### Version Attribute is Mandatory in XML Declaration\n",
    "\n",
    "- If an XML declaration is present, the version attribute **must** be specified. \n",
    "- Omitting it leads to a well-formedness error.\n",
    "\n",
    "### Default Version Assumption\n",
    "\n",
    "- **No Declaration**: If an XML document lacks an explicit version declaration, XML 1.0 is assumed by default.\n",
    "\n",
    "## XML vs. HTML\n",
    "\n",
    "- XML was designed to **carry data** - with a focus on **what** data is.\n",
    "- HTML was designed to **display data** - with a focus on **how** data looks.\n",
    "\n",
    "### Tags\n",
    "\n",
    "- XML tags are **not predefined** like HTML tags are.\n"
   ]
  },
  {
   "cell_type": "markdown",
   "metadata": {},
   "source": [
    "# The XML Prolog\n",
    "\n",
    "This line is called the XML prolog:\n",
    "\n",
    "```xml\n",
    "<?xml version=\"1.0\" encoding=\"UTF-8\"?>\n",
    "The XML prolog is optional. If it exists, it must come first in the document.\n",
    "\n",
    "XML documents can contain international characters, like Norwegian `øæå` or French `êèé`.\n",
    "\n",
    "To avoid errors, you should specify the encoding used, or save your XML files as **UTF-8**.\n",
    "\n",
    "**UTF-8** is the default character encoding for XML documents.\n",
    "\n"
   ]
  },
  {
   "cell_type": "markdown",
   "metadata": {},
   "source": [
    "## Enhancing Readability and Conciseness\n",
    "\n",
    "Attributes can make XML documents more **readable** and **concise** by avoiding unnecessary nested elements for simple, descriptive data.\n",
    "\n",
    "### Without Attributes:\n",
    "\n",
    "```xml\n",
    "<title>\n",
    "  <language>en</language>\n",
    "  Everyday Italian\n",
    "</title>\n",
    "\n",
    "### With Attributes:\n",
    "```xml\n",
    "\n",
    "<title lang=\"en\">Everyday Italian</title>\n"
   ]
  },
  {
   "cell_type": "markdown",
   "metadata": {},
   "source": [
    "# Entity References\n",
    "\n",
    "In XML, some characters have a special meaning and cannot be used directly inside XML elements. For example, if you place a character like `<` inside an XML element, it will generate an error because the XML parser will interpret it as the start of a new element.\n",
    "\n",
    "### Example of an XML error:\n",
    "\n",
    "```xml\n",
    "<message>salary < 1000</message>\n",
    "# Predefined Entity References in XML\n",
    "\n",
    "XML defines five special characters that can be replaced by entity references to avoid errors:\n",
    "\n",
    "| Entity Reference | Character | Description       |\n",
    "|------------------|-----------|-------------------|\n",
    "| `&lt;`           | `<`       | less than         |\n",
    "| `&gt;`           | `>`       | greater than      |\n",
    "| `&amp;`          | `&`       | ampersand         |\n",
    "| `&apos;`         | `'`       | apostrophe        |\n",
    "| `&quot;`         | `\"`       | quotation mark    |\n",
    "\n",
    "## Explanation of Predefined Entity References:\n",
    "\n",
    "- **`&lt;`**: Represents the `<` (less than) symbol.\n",
    "- **`&gt;`**: Represents the `>` (greater than) symbol.\n",
    "- **`&amp;`**: Represents the `&` (ampersand) symbol. This is important because `&` is used to introduce an entity reference.\n",
    "- **`&apos;`**: Represents the `'` (apostrophe) symbol. This can be useful within attribute values that are enclosed in single quotes.\n",
    "- **`&quot;`**: Represents the `\"` (quotation mark) symbol. This is useful for attribute values enclosed in double quotes.\n",
    "\n"
   ]
  },
  {
   "cell_type": "markdown",
   "metadata": {},
   "source": [
    "## Installing XML Utilities and Testing XML Validity\n",
    "\n",
    "To validate XML files in a Linux environment, we use the `xmllint` tool, which is part of the `libxml2-utils` package. This tool helps in checking whether an XML file is well-formed and adheres to the proper XML syntax.\n",
    "\n",
    "### Installation\n",
    "\n",
    "First, install the `libxml2-utils` package using the following command:\n",
    "\n",
    "```bash\n",
    "sudo apt-get install libxml2-utils\n"
   ]
  },
  {
   "cell_type": "markdown",
   "metadata": {},
   "source": [
    "## Validating an XML File\n",
    "\n",
    "Once installed, you can use the `xmllint` tool to validate an XML file. For example, to check if `test.xml` is well-formed, run the following command:\n",
    "\n",
    "```bash\n",
    "xmllint --noout test.xml\n",
    "\n",
    "xmllint: The tool used for parsing and validating XML files.\n",
    "--noout: This option suppresses the output if the XML is valid. If there are any errors in the XML, they will be displayed.\n",
    "test.xml: The file being tested.\n"
   ]
  },
  {
   "cell_type": "markdown",
   "metadata": {},
   "source": [
    "# Why XML is Used in Frontend Development\n",
    "\n",
    "XML (Extensible Markup Language) is sometimes used in the frontend of applications, particularly for defining user interfaces (UIs), because of its flexibility and structure. Here's why XML is used for frontend development:\n",
    "\n",
    "1. **Structured Data Representation**  \n",
    "   XML is a hierarchical and structured format, which makes it well-suited for representing complex UI layouts and components. The tags and nested elements allow developers to organize UI components logically, making it easy to understand and modify.\n",
    "\n",
    "2. **Separation of Concerns**  \n",
    "   XML is often used to separate the structure of the UI from the logic of the application. For example, in Android development, XML is used to define the layout (frontend) of the application, while Java or Kotlin handles the functionality (backend). This separation makes the codebase cleaner and easier to maintain.\n",
    "\n",
    "3. **Cross-Platform Compatibility**  \n",
    "   XML is platform-agnostic and can be used across different systems. Since it's purely a data format, it can be easily parsed and rendered by various tools, libraries, and frameworks in both web and mobile applications.\n"
   ]
  },
  {
   "cell_type": "markdown",
   "metadata": {},
   "source": [
    "# JSON (JavaScript Object Notation)\n",
    "\n",
    "## What is JSON?\n",
    "\n",
    "JSON stands for **JavaScript Object Notation**. It's a lightweight data interchange format that's easy for humans to read and write and easy for machines to parse and generate. Although it originates from JavaScript, it's language-independent and widely used across various programming languages.\n",
    "\n",
    "---\n",
    "\n",
    "## Structure of JSON\n",
    "\n",
    "JSON uses key-value pairs and supports nested structures like objects and arrays. Here's an example:\n",
    "\n",
    "```json\n",
    "{\n",
    "    \"students\": [\n",
    "        {\n",
    "            \"id\": 1,\n",
    "            \"name\": \"John Doe\",\n",
    "            \"age\": 20,\n",
    "            \"major\": \"Computer Science\"\n",
    "        },\n",
    "        {\n",
    "            \"id\": 2,\n",
    "            \"name\": \"Jane Smith\",\n",
    "            \"age\": 22,\n",
    "            \"major\": \"Mathematics\"\n",
    "        }\n",
    "    ]\n",
    "}\n"
   ]
  },
  {
   "cell_type": "markdown",
   "metadata": {},
   "source": [
    "### Key Features:\n",
    "\n",
    "- **Objects**: Represented by curly braces `{}` containing key-value pairs.\n",
    "- **Arrays**: Ordered lists enclosed in square brackets `[]`.\n",
    "- **Data Types**: Supports strings, numbers, objects, arrays, booleans, and `null`.\n",
    "\n",
    "---\n",
    "\n",
    "### Use Cases of JSON:\n",
    "\n",
    "- **Web APIs**: Common format for data exchange between clients and servers.\n",
    "- **Configuration Files**: Used in tools and frameworks (e.g., `.json` config files).\n",
    "- **Data Storage**: Suitable for storing structured data in NoSQL databases like MongoDB.\n",
    "\n",
    "---\n",
    "\n",
    "### Working with JSON in Python:\n",
    "\n",
    "Python’s `json` module makes it straightforward to work with JSON data.\n"
   ]
  },
  {
   "cell_type": "code",
   "execution_count": 48,
   "metadata": {},
   "outputs": [
    {
     "name": "stdout",
     "output_type": "stream",
     "text": [
      "Name: John Doe, Age: 20, Major: Computer Science\n",
      "Name: Jane Smith, Age: 22, Major: Mathematics\n"
     ]
    }
   ],
   "source": [
    "import json\n",
    "\n",
    "# Sample JSON data\n",
    "json_data = '''\n",
    "{\n",
    "    \"students\": [\n",
    "        {\n",
    "            \"id\": 1,\n",
    "            \"name\": \"John Doe\",\n",
    "            \"age\": 20,\n",
    "            \"major\": \"Computer Science\"\n",
    "        },\n",
    "        {\n",
    "            \"id\": 2,\n",
    "            \"name\": \"Jane Smith\",\n",
    "            \"age\": 22,\n",
    "            \"major\": \"Mathematics\"\n",
    "        }\n",
    "    ]\n",
    "}\n",
    "'''\n",
    "\n",
    "# Parse JSON data\n",
    "data = json.loads(json_data)\n",
    "\n",
    "# Iterate through each student\n",
    "for student in data['students']:\n",
    "    name = student['name']\n",
    "    age = student['age']\n",
    "    major = student['major']\n",
    "    print(f\"Name: {name}, Age: {age}, Major: {major}\")\n"
   ]
  },
  {
   "cell_type": "code",
   "execution_count": 49,
   "metadata": {},
   "outputs": [],
   "source": [
    "import json\n",
    "\n",
    "data = {\n",
    "    \"students\": [\n",
    "        {\"id\": 1, \"name\": \"John Doe\", \"age\": 20, \"major\": \"Computer Science\"},\n",
    "        {\"id\": 2, \"name\": \"Jane Smith\", \"age\": 22, \"major\": \"Mathematics\"}\n",
    "    ]\n",
    "}\n",
    "\n",
    "# Write JSON data to a file\n",
    "with open('students.json', 'w') as file:\n",
    "    json.dump(data, file, indent=4)\n"
   ]
  },
  {
   "cell_type": "code",
   "execution_count": 4,
   "metadata": {},
   "outputs": [
    {
     "name": "stdout",
     "output_type": "stream",
     "text": [
      "{'students': [{'id': 1, 'name': 'John Doe', 'age': 20, 'major': 'Computer Science'}, {'id': 2, 'name': 'Jane Smith', 'age': 22, 'major': 'Mathematics'}]}\n"
     ]
    }
   ],
   "source": [
    "import json\n",
    "\n",
    "# Open and read the students.json file\n",
    "with open('students.json', 'r') as file:\n",
    "    # Load the contents of the file into a Python object\n",
    "    data = json.load(file)\n",
    "\n",
    "# Print the data to see its structure\n",
    "print(data)\n"
   ]
  },
  {
   "cell_type": "markdown",
   "metadata": {},
   "source": [
    "## Validating JSON Code in Linux\n",
    "\n",
    "To test if JSON code is valid in Linux, you can use various tools available in the terminal. One popular tool for this purpose is **`jq`**, which is a command-line JSON processor. Here’s how to install and use it:\n",
    "\n",
    "### 1. Install `jq`\n",
    "\n",
    "If you don't have `jq` installed, you can easily install it using the package manager. For example, on Debian-based systems (like Ubuntu or Kali Linux), use the following command:\n",
    "\n",
    "```bash\n",
    "sudo apt-get install jq\n"
   ]
  },
  {
   "cell_type": "markdown",
   "metadata": {},
   "source": [
    "## Validate JSON Code\n",
    "\n",
    "Once `jq` is installed, you can use it to validate your JSON code. Here's how:\n",
    "\n",
    "### Create a JSON File\n",
    "\n",
    "Create a JSON file (for example, `test.json`):\n",
    "\n",
    "```json\n",
    "{\n",
    "    \"name\": \"John\",\n",
    "    \"age\": 30,\n",
    "    \"city\": \"New York\"\n",
    "}\n"
   ]
  },
  {
   "cell_type": "markdown",
   "metadata": {},
   "source": [
    "## Validate the JSON File\n",
    "\n",
    "Use the following command to validate the JSON file:\n",
    "\n",
    "```bash\n",
    "jq . test.json\n",
    "\n"
   ]
  },
  {
   "cell_type": "markdown",
   "metadata": {},
   "source": [
    "### Command Breakdown\n",
    "- jq: The command-line tool for processing JSON.\n",
    "- dot(.) This specifies that you want to output the entire JSON file. If the JSON is valid, it will be pretty-printed.\n",
    "- test.json: The name of the file containing your JSON code.\n",
    "### Output\n",
    "- If the JSON is valid, it will display the formatted JSON content.\n",
    "- If there are any errors in the JSON syntax, jq will display an error message indicating what went wrong."
   ]
  },
  {
   "cell_type": "markdown",
   "metadata": {},
   "source": [
    "## Using Python with xmltodict Library\n",
    "\n",
    "In Python, you can utilize the `xmltodict` library, which makes it easy to convert XML to JSON.\n",
    "\n",
    "### Install xmltodict\n",
    "\n",
    "First, ensure you have Python and `pip` installed. Then, install the library:\n",
    "\n",
    "```bash\n",
    "pip install xmltodict\n"
   ]
  },
  {
   "cell_type": "code",
   "execution_count": 50,
   "metadata": {},
   "outputs": [],
   "source": [
    "import xmltodict\n",
    "import json\n",
    "\n",
    "# Load the XML file\n",
    "with open('test.xml') as xml_file:\n",
    "    data_dict = xmltodict.parse(xml_file.read())\n",
    "\n",
    "# Convert to JSON\n",
    "json_data = json.dumps(data_dict, indent=4)\n",
    "\n",
    "# Save to a JSON file\n",
    "with open('output.json', 'w') as json_file:\n",
    "    json_file.write(json_data)\n"
   ]
  },
  {
   "cell_type": "markdown",
   "metadata": {},
   "source": [
    "# CSV (Comma-Separated Values)\n",
    "\n",
    "## What is CSV?\n",
    "\n",
    "CSV stands for **Comma-Separated Values**. It's a simple, plain-text format for storing tabular data, such as spreadsheets or databases. Each line in a CSV file corresponds to a row, and each value is separated by a delimiter (commonly a comma).\n",
    "\n",
    "---\n",
    "\n",
    "## Structure of CSV\n",
    "\n",
    "A CSV file typically starts with a header row that defines the column names, followed by data rows.\n",
    "\n",
    "Example:\n",
    "\n",
    "```csv\n",
    "id,name,age,major\n",
    "1,John Doe,20,Computer Science\n",
    "2,Jane Smith,22,Mathematics\n"
   ]
  },
  {
   "cell_type": "markdown",
   "metadata": {},
   "source": [
    "### Key Features:\n",
    "\n",
    "- **Simplicity**: Easy to read and write.\n",
    "- **Flexibility**: Can use different delimiters (commas, semicolons, tabs).\n",
    "- **Wide Support**: Supported by many applications, including Excel and databases.\n",
    "\n",
    "---\n",
    "\n",
    "### Use Cases of CSV:\n",
    "\n",
    "- **Data Export/Import**: Common format for exporting data from databases and importing into applications.\n",
    "- **Spreadsheets**: Used in programs like Microsoft Excel and Google Sheets.\n",
    "- **Data Analysis**: Suitable for handling large datasets in data processing and analysis tasks.\n",
    "\n",
    "---\n",
    "\n",
    "### Working with CSV in Python:\n",
    "\n",
    "Python’s `csv` module provides functionality to read from and write to CSV files.\n"
   ]
  },
  {
   "cell_type": "markdown",
   "metadata": {},
   "source": [
    "### Writing CSV to a File"
   ]
  },
  {
   "cell_type": "code",
   "execution_count": 51,
   "metadata": {},
   "outputs": [],
   "source": [
    "import csv\n",
    "\n",
    "# Data to write\n",
    "data = [\n",
    "    {'id': 1, 'name': 'John Doe', 'age': 20, 'major': 'Computer Science'},\n",
    "    {'id': 2, 'name': 'Jane Smith', 'age': 22, 'major': 'Mathematics'}\n",
    "]\n",
    "\n",
    "# Write CSV data\n",
    "with open('students.csv', 'w', newline='') as csvfile:\n",
    "    fieldnames = ['id', 'name', 'age', 'major']\n",
    "    writer = csv.DictWriter(csvfile, fieldnames=fieldnames)\n",
    "\n",
    "    writer.writeheader()\n",
    "    for student in data:\n",
    "        writer.writerow(student)\n"
   ]
  },
  {
   "cell_type": "code",
   "execution_count": 52,
   "metadata": {},
   "outputs": [
    {
     "name": "stdout",
     "output_type": "stream",
     "text": [
      "Name: John Doe, Age: 20, Major: Computer Science\n",
      "Name: Jane Smith, Age: 22, Major: Mathematics\n"
     ]
    }
   ],
   "source": [
    "# Read CSV data\n",
    "with open('students.csv', newline='') as csvfile:\n",
    "    reader = csv.DictReader(csvfile)\n",
    "    for row in reader:\n",
    "        name = row['name']\n",
    "        age = row['age']\n",
    "        major = row['major']\n",
    "        print(f\"Name: {name}, Age: {age}, Major: {major}\")\n"
   ]
  },
  {
   "cell_type": "markdown",
   "metadata": {},
   "source": [
    "# Comparison: XML vs. JSON vs. CSV\n",
    "\n",
    "| Feature              | XML                             | JSON                           | CSV                          |\n",
    "|---------------------|---------------------------------|--------------------------------|-----------------------------|\n",
    "| Structure           | Hierarchical, nested elements    | Key-value pairs, supports nesting | Tabular, row and column based |\n",
    "| Readability         | Human-readable but verbose       | Highly readable and concise    | Very readable for simple data |\n",
    "| Data Types          | Primarily text-based             | Supports various data types    | Primarily text and numbers   |\n",
    "| Use Cases           | Complex data structures, configurations | Web APIs, data interchange    | Simple data storage, spreadsheets |\n",
    "| Parsing in Python   | `xml.etree.ElementTree`, `lxml` | `json` module                  | `csv` module                 |\n",
    "| File Size           | Larger due to verbose tags       | Smaller compared to XML        | Generally small              |\n",
    "\n",
    "---\n",
    "\n",
    "## When to Use Each Format\n",
    "\n",
    "- **XML**: When dealing with complex data structures, requiring strict schemas, or when interacting with legacy systems that utilize XML.\n",
    "- **JSON**: Ideal for web applications, APIs, and situations where data needs to be easily parsed and manipulated.\n",
    "- **CSV**: Best for simple, flat data structures like spreadsheets or database exports where data is tabular.\n",
    "\n",
    "---\n",
    "\n",
    "# Conclusion\n",
    "\n",
    "Understanding XML, JSON, and CSV is crucial for data handling in Python and beyond. Each format has its strengths and is suited to different scenarios:\n",
    "\n",
    "- **XML** offers a robust way to represent complex, hierarchical data.\n",
    "- **JSON** provides a lightweight and flexible format ideal for web applications and APIs.\n",
    "- **CSV** excels in handling simple, tabular data with ease.\n",
    "\n",
    "By mastering these formats and the associated Python libraries (`xml`, `json`, and `csv`), you'll be well-equipped to manage and manipulate data effectively in your projects.\n"
   ]
  },
  {
   "cell_type": "code",
   "execution_count": null,
   "metadata": {},
   "outputs": [],
   "source": []
  }
 ],
 "metadata": {
  "kernelspec": {
   "display_name": "Python 3 (ipykernel)",
   "language": "python",
   "name": "python3"
  },
  "language_info": {
   "codemirror_mode": {
    "name": "ipython",
    "version": 3
   },
   "file_extension": ".py",
   "mimetype": "text/x-python",
   "name": "python",
   "nbconvert_exporter": "python",
   "pygments_lexer": "ipython3",
   "version": "3.12.7"
  }
 },
 "nbformat": 4,
 "nbformat_minor": 4
}
