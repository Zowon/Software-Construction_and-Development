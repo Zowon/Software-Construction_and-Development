{
 "cells": [
  {
   "cell_type": "code",
   "execution_count": 1,
   "metadata": {},
   "outputs": [
    {
     "name": "stdout",
     "output_type": "stream",
     "text": [
      "Invalid Username: Username must be at least 5 characters long and contain only alphanumeric characters.\n",
      "process complete.\n"
     ]
    }
   ],
   "source": [
    "# Custom Exception Classes\n",
    "class InvalidUsernameError(Exception):\n",
    "    \"\"\"Exception raised for invalid usernames.\"\"\"\n",
    "    pass\n",
    "\n",
    "class WeakPasswordError(Exception):\n",
    "    \"\"\"Exception raised for weak passwords.\"\"\"\n",
    "    pass\n",
    "\n",
    "class AgeRestrictionError(Exception):\n",
    "    \"\"\"Exception raised for users under the minimum age requirement.\"\"\"\n",
    "    pass\n",
    "\n",
    "# User Input Validations\n",
    "def validate_username(username):\n",
    "    if len(username) < 5 or not username.isalnum():\n",
    "        raise InvalidUsernameError(\"Username must be at least 5 characters long and contain only alphanumeric characters.\")\n",
    "    return username\n",
    "\n",
    "def validate_password(password):\n",
    "    if len(password) < 8 or not any(char.isupper() for char in password) or not any(char.islower() for char in password) or not any(char.isdigit() for char in password):\n",
    "        raise WeakPasswordError(\"Password must be at least 8 characters long and include one uppercase letter, one lowercase letter, and one number.\")\n",
    "    return password\n",
    "\n",
    "def validate_age(age):\n",
    "    if age < 18:\n",
    "        raise AgeRestrictionError(\"You must be 18 years or older to register.\")\n",
    "    return age\n",
    "\n",
    "# Main Registration Process\n",
    "def user_registration():\n",
    "    try:\n",
    "        # Take user inputs\n",
    "        username = input(\"Enter username: \")\n",
    "        validate_username(username)\n",
    "        \n",
    "        password = input(\"Enter password: \")\n",
    "        validate_password(password)\n",
    "        \n",
    "        age = int(input(\"Enter age: \"))\n",
    "        validate_age(age)\n",
    "\n",
    "    except InvalidUsernameError as e:\n",
    "        print(f\"Invalid Username: {e}\")\n",
    "    except WeakPasswordError as e:\n",
    "        print(f\"Weak Password: {e}\")\n",
    "    except AgeRestrictionError as e:\n",
    "        print(f\"Age Restriction: {e}\")\n",
    "    else:\n",
    "        print(\"Registration Successful!\")\n",
    "    finally:\n",
    "        \n",
    "        print(\"process complete.\")\n",
    "\n",
    "# Run the registration function\n",
    "user_registration()\n"
   ]
  },
  {
   "cell_type": "code",
   "execution_count": null,
   "metadata": {},
   "outputs": [],
   "source": []
  },
  {
   "cell_type": "code",
   "execution_count": null,
   "metadata": {},
   "outputs": [],
   "source": []
  },
  {
   "cell_type": "code",
   "execution_count": null,
   "metadata": {},
   "outputs": [],
   "source": []
  },
  {
   "cell_type": "code",
   "execution_count": null,
   "metadata": {},
   "outputs": [],
   "source": []
  }
 ],
 "metadata": {
  "kernelspec": {
   "display_name": "base",
   "language": "python",
   "name": "python3"
  },
  "language_info": {
   "codemirror_mode": {
    "name": "ipython",
    "version": 3
   },
   "file_extension": ".py",
   "mimetype": "text/x-python",
   "name": "python",
   "nbconvert_exporter": "python",
   "pygments_lexer": "ipython3",
   "version": "3.12.7"
  }
 },
 "nbformat": 4,
 "nbformat_minor": 2
}
