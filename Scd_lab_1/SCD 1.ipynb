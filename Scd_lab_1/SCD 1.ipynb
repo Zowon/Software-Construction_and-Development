{
 "cells": [
  {
   "cell_type": "markdown",
   "metadata": {},
   "source": [
    "# Software Construction Lab\n",
    "**Muhammad Saood Sarwar**\n",
    "\n",
    "**Instructor (CS), National University Of Computer and Emerging Sciences, Peshawar**."
   ]
  },
  {
   "cell_type": "markdown",
   "metadata": {},
   "source": [
    "# Why Python?\n",
    "\n",
    "Python is the most popular programming language. It was created by Guido van Rossum, and released in 1991. Python is used for machine learning, data science as well as software development. It offers a wide variety of libraries related to machine learning and data science.\n",
    "\n",
    "Python is a mature programming language, it also has excellent properties for newbie programmers, making it ideal for people who have never programmed before.\n",
    "\n",
    "Some of the most remarkable properties of Python are as follow;\n",
    "1. Easy to read code\n",
    "2. Suppression of non-mandatory delimiters\n",
    "3. Python uses indentation to define scope\n",
    "4. Dynamic typed, and dynamic memory usage (Both memory allocation and garbage collection).\n",
    "5. Python is an interpreted language\n",
    "6. Python can be run on interactive consoles (Jupyter notebook, IPython) \n",
    "7. Python works on different platforms (Windows, Mac, Linux, Raspberry Pi, etc)\n",
    "8. Python has a simple syntax similar to the English language and allows developers to write programs with fewer lines."
   ]
  },
  {
   "cell_type": "code",
   "execution_count": 4,
   "metadata": {},
   "outputs": [],
   "source": [
    "# Assigning different type of value to a variable in Python, the variable simply starts referring \n",
    "# to the new value with its updated data type."
   ]
  },
  {
   "cell_type": "markdown",
   "metadata": {},
   "source": [
    "## Writing the First Python Program"
   ]
  },
  {
   "cell_type": "code",
   "execution_count": 1,
   "metadata": {},
   "outputs": [
    {
     "name": "stdout",
     "output_type": "stream",
     "text": [
      "Hello, World!\n"
     ]
    }
   ],
   "source": [
    "print(\"Hello, World!\")"
   ]
  },
  {
   "cell_type": "markdown",
   "metadata": {},
   "source": [
    "## Creating Variables\n",
    "#### Variables are containers for storing data values.\n",
    "#### A variable is created the moment you first assign a value to it"
   ]
  },
  {
   "cell_type": "code",
   "execution_count": 6,
   "metadata": {},
   "outputs": [
    {
     "name": "stdout",
     "output_type": "stream",
     "text": [
      "Integer Variable:  100123456789\n",
      "String Variable Pakistan\n"
     ]
    }
   ],
   "source": [
    "x = 100123456789\n",
    "y = \"Pakistan\"\n",
    "print(\"Integer Variable: \", x)\n",
    "print(\"String Variable\", y)\n",
    "#print(type(x))"
   ]
  },
  {
   "cell_type": "markdown",
   "metadata": {},
   "source": [
    "#### Variables do not need to be declared with any particular type and can even change type after they have been set."
   ]
  },
  {
   "cell_type": "code",
   "execution_count": 7,
   "metadata": {},
   "outputs": [
    {
     "name": "stdout",
     "output_type": "stream",
     "text": [
      "Converted to STring\n"
     ]
    }
   ],
   "source": [
    "x = 10 # Here x is of type int\n",
    "x = \"Converted to STring\" # Here, the type of x is changed to string\n",
    "print(x)"
   ]
  },
  {
   "cell_type": "markdown",
   "metadata": {},
   "source": [
    "## Variable Name\n",
    "Variable name must start with a letter or the underscore character\n",
    "\n",
    "Variable name cannot start with a number\n",
    "\n",
    "Variable name can only contain alpha-numeric characters and underscores (A-z, 0-9, and _ )\n",
    "\n",
    "Variable names are case-sensitive"
   ]
  },
  {
   "cell_type": "code",
   "execution_count": 8,
   "metadata": {},
   "outputs": [],
   "source": [
    "#Legal variable names:\n",
    "myvar = \"John\"\n",
    "my_var = \"John\"\n",
    "_my_var = \"John\"\n",
    "myVar = \"John\"\n",
    "MYVAR = \"John\"\n",
    "myvar2 = \"John\"\n",
    "\n",
    "#Illegal variable names:\n",
    "#2myvar = \"John\" \n",
    "#my-var = \"John\"\n",
    "#my var = \"John\""
   ]
  },
  {
   "cell_type": "markdown",
   "metadata": {},
   "source": [
    "## Python Built-in Data Types\n",
    "Variables store data of different types\n",
    "\n",
    "Python has the following built-in data types, in these categories:\n",
    "\n",
    "1. Text Type:-----  str\n",
    "2. Numeric Types:-----\tint, float, complex\n",
    "3. Sequence Types:-----\tlist, tuple, range\n",
    "4. Mapping Type:-----\tdict\n",
    "5. Set Types:-----\tset, frozenset\n",
    "6. Boolean Type:-----\tbool\n",
    "7. Binary Types:-----\tbytes, bytearray, memoryview"
   ]
  },
  {
   "cell_type": "code",
   "execution_count": 9,
   "metadata": {},
   "outputs": [],
   "source": [
    "# Mutability: Allowing you to add and remove elements after creation.\n",
    "# Uniqueness: Storing unique elements. Duplicate elements are automatically eliminated.\n",
    "# Ordering: The elements are stored in any particular sequence. Can use Indexing to access individual element\n",
    "# Keyvalue paired: Store data as key-value pairs. "
   ]
  },
  {
   "cell_type": "code",
   "execution_count": 10,
   "metadata": {},
   "outputs": [
    {
     "name": "stdout",
     "output_type": "stream",
     "text": [
      "['apple', 'banana', 'cherry', 9]\n"
     ]
    }
   ],
   "source": [
    "x_str = \"Hello World\"\n",
    "x_int = 20\n",
    "x_flt = 20.5\n",
    "x_com = 3+1j\n",
    "x_list = [\"apple\", \"banana\", \"cherry\", 9]\n",
    "x_tpl = (\"apple\", \"banana\", \"cherry\")\n",
    "x_range = range(3,6) #An in-built function. It returns a sequence of numbers.\n",
    "#range(start, stop, step)\n",
    "#start: Optional parameter.  Starting point of sequence. By default, it’s zero.\n",
    "#stop:  Mandatory parameter. Stopping point of the sequence, Sequence stops just before the given number.\n",
    "#step:  Optional parameter.  The incrementation on each iteration. By default, the value is one.\n",
    "        \n",
    "x_dic = {\"name\" : \"John\", \"age\" : 36}\n",
    "x_set = {\"apple\", \"banana\", \"cherry\"}\n",
    "x_fset = frozenset({\"apple\", \"cherry\", \"banana\"}) #is an immutable version of a Python set object\n",
    "x_bol = True\n",
    "\n",
    "#print(type(x_range))\n",
    "print(x_list)"
   ]
  },
  {
   "cell_type": "code",
   "execution_count": 11,
   "metadata": {},
   "outputs": [
    {
     "name": "stdout",
     "output_type": "stream",
     "text": [
      "apple\n",
      "banana\n",
      "cherry\n",
      "9\n"
     ]
    }
   ],
   "source": [
    "#Printing Set/ frozen set values\n",
    "for x_val in x_list:\n",
    "    print(x_val)\n"
   ]
  },
  {
   "cell_type": "code",
   "execution_count": 12,
   "metadata": {},
   "outputs": [
    {
     "name": "stdout",
     "output_type": "stream",
     "text": [
      "name : John\n",
      "age : 36\n"
     ]
    }
   ],
   "source": [
    "#Printing dictionary values\n",
    "for index, val in x_dic.items():\n",
    "    print(index, \":\", val)"
   ]
  },
  {
   "cell_type": "code",
   "execution_count": 13,
   "metadata": {},
   "outputs": [
    {
     "data": {
      "text/plain": [
       "frozenset({'apple', 'banana', 'cherry'})"
      ]
     },
     "execution_count": 13,
     "metadata": {},
     "output_type": "execute_result"
    }
   ],
   "source": [
    "x_fset"
   ]
  },
  {
   "cell_type": "code",
   "execution_count": 14,
   "metadata": {},
   "outputs": [],
   "source": [
    "x_list = [\"apple\", \"banana\", \"cherry\", 9]\n",
    "x_list.append(\"Mango\")"
   ]
  },
  {
   "cell_type": "code",
   "execution_count": 15,
   "metadata": {},
   "outputs": [
    {
     "name": "stdout",
     "output_type": "stream",
     "text": [
      "['apple', 'banana', 'cherry', 9, 'Mango']\n"
     ]
    }
   ],
   "source": [
    "print(x_list)"
   ]
  },
  {
   "cell_type": "code",
   "execution_count": 16,
   "metadata": {},
   "outputs": [
    {
     "name": "stdout",
     "output_type": "stream",
     "text": [
      "{1, 3}\n",
      "{1, 2, 3}\n",
      "{1, 2, 3, 4}\n",
      "{1, 2, 3, 4, 5, 6, 8}\n"
     ]
    }
   ],
   "source": [
    "# initialize my_set\n",
    "my_set = {1, 3}\n",
    "print(my_set)\n",
    "\n",
    "#print(my_set[0])  # TypeError: 'set' object does not support indexing\n",
    "\n",
    "my_set.add(2)\n",
    "print(my_set)\n",
    "\n",
    "# add multiple elements\n",
    "# Output: {1, 2, 3, 4}\n",
    "my_set.update([2, 3, 4])\n",
    "print(my_set)\n",
    "\n",
    "# add list and set\n",
    "# Output: {1, 2, 3, 4, 5, 6, 8}\n",
    "my_set.update([4, 5], {1, 6, 8})\n",
    "print(my_set)"
   ]
  },
  {
   "cell_type": "code",
   "execution_count": 17,
   "metadata": {},
   "outputs": [
    {
     "data": {
      "text/plain": [
       "{7, 109}"
      ]
     },
     "execution_count": 17,
     "metadata": {},
     "output_type": "execute_result"
    }
   ],
   "source": [
    "mset = {109, 7}\n",
    "mset"
   ]
  },
  {
   "cell_type": "code",
   "execution_count": 18,
   "metadata": {},
   "outputs": [
    {
     "name": "stdout",
     "output_type": "stream",
     "text": [
      "{1, 3, 4, 5, 6}\n",
      "{1, 3, 5, 6}\n",
      "{1, 3, 5}\n",
      "{1, 3, 5}\n"
     ]
    }
   ],
   "source": [
    "# initialize my_set\n",
    "my_set = {1, 3, 4, 5, 6}\n",
    "print(my_set)\n",
    "\n",
    "# discard an element\n",
    "my_set.discard(4)\n",
    "print(my_set)\n",
    "\n",
    "# remove an element\n",
    "my_set.remove(6)\n",
    "print(my_set)\n",
    "\n",
    "# discard an element does not throw an error, if element is not present in a set \n",
    "my_set.discard(2)\n",
    "print(my_set)\n",
    "\n",
    "# remove an element throws an error, if element is not present in a set \n",
    "#my_set.remove(2)\n"
   ]
  },
  {
   "cell_type": "markdown",
   "metadata": {},
   "source": [
    "# Understanding Mutability and Immutability of Data Types in Python\n",
    "\n",
    "Understanding mutability and immutability of data types in Python is crucial because it influences how data is managed, how memory is used, and how safe your code is when dealing with concurrent operations or data sharing.\n",
    "\n",
    "## Mutability and Immutability\n",
    "\n",
    "### Mutable Data Types\n",
    "Mutable data types can be changed after their creation. This means that you can alter the internal state of these data types without changing their identity.\n",
    "\n",
    "### Immutable Data Types\n",
    "Immutable data types cannot be altered once they are created. Any operation that tries to modify them will result in a new object being created.\n",
    "\n",
    "## Common Mutable and Immutable Data Types in Python\n",
    "\n",
    "### Mutable Data Types\n",
    "\n",
    "- **Lists:** You can add, remove, or change elements.\n",
    "- **Dictionaries:** Keys can be added or removed, and values associated with keys can be modified.\n",
    "- **Sets:** Elements can be added or removed.\n",
    "\n",
    "### Immutable Data Types\n",
    "\n",
    "- **Tuples:** Once created, the elements cannot be altered.\n",
    "- **Strings:** Concatenating or modifying a string results in a new string being created.\n",
    "- **Integers and Floats:** Numbers are immutable; arithmetic operations produce new numbers.\n"
   ]
  },
  {
   "cell_type": "markdown",
   "metadata": {},
   "source": [
    "# Immutability of Integers and Strings in Python\n",
    "\n",
    "Understanding immutability is essential because it affects how data is managed, memory usage, and the safety of your code in concurrent or shared scenarios. In Python, both integers and strings are **immutable** by nature. This means that once they are created, their values cannot be altered. However, you can reassign variables to new values.\n",
    "\n",
    "## **1. Integer Immutability**\n",
    "\n",
    "### **Definition**\n",
    "An integer in Python is immutable, meaning that once an integer object is created, its value cannot be changed. Any operation that seems to modify the integer will instead create a new integer object.\n",
    "\n",
    "### **Example**\n",
    "```python\n",
    "x = 5\n",
    "x = x + 1  # Creates a new integer object with value 6\n",
    "print(x)  # Output: 6\n"
   ]
  },
  {
   "cell_type": "markdown",
   "metadata": {},
   "source": [
    "## **2. String Immutability**\n",
    "\n",
    "### **Definition**\n",
    "A string in Python is immutable, meaning that once a string object is created, its content cannot be changed. Any operation that modifies the string results in the creation of a new string object.\n",
    "\n",
    "### **Example**\n",
    "```python\n",
    "my_string = \"hello\"\n",
    "my_string = my_string + \" world\"  # Creates a new string object\n",
    "print(my_string)  # Output: \"hello world\"\n"
   ]
  },
  {
   "cell_type": "markdown",
   "metadata": {},
   "source": [
    "![title](scd.jpg)"
   ]
  },
  {
   "cell_type": "markdown",
   "metadata": {},
   "source": [
    "### Implications in Software Construction\n",
    "\n",
    "#### **Efficiency:**\n",
    "- **Immutable types**: Being unchangeable, they can be stored in memory more efficiently because they can be reused without the risk of unintentional modification.\n",
    "- **Mutable types**: Require additional memory overhead to accommodate changes, which can lead to inefficiencies in some cases.\n",
    "\n",
    "#### **Thread Safety:**\n",
    "- **Immutable types**: Are inherently thread-safe because they can't be modified after creation. This prevents issues like race conditions in a multi-threaded environment, where multiple threads might attempt to modify the same object simultaneously.\n",
    "- **Mutable types**: When shared across threads, need to be handled with care (e.g., using locks) to avoid unpredictable behavior.\n",
    "\n",
    "#### **Side Effects and Function Design:**\n",
    "- **Immutability**: Helps avoid unintended side effects in function calls. When passing an immutable type to a function, you can be certain that the function cannot alter the original data.\n",
    "- **Mutable types**: Allow a function to modify data outside its local scope, which may introduce bugs if not managed properly.\n",
    "\n",
    "### When to Use Mutable or Immutable Types?\n",
    "\n",
    "- **Immutable Types**: Use them when:\n",
    "  - You want to ensure data consistency and avoid unintended changes.\n",
    "  - You are working with constants or values that do not need to be altered after creation.\n",
    "  - You are optimizing for thread safety or memory usage.\n",
    "\n",
    "- **Mutable Types**: Use them when:\n",
    "  - You need a data structure that evolves over time (e.g., a growing list or changing state).\n"
   ]
  },
  {
   "cell_type": "markdown",
   "metadata": {},
   "source": [
    "## Setting the Specific Data Type or Python Casting\n",
    "\n",
    "    Casting in python is done using constructor functions:\n",
    "\n",
    "    int() - constructs an integer number from an integer literal, a float by rounding to the whole part in a number, a string providing the string represents a valid number\n",
    "\n",
    "    float() - constructs a float number from an integer literal, a float literal or a string literal providing the string represents a valid number.\n",
    "\n",
    "    str() - constructs a string from a wide variety of data types, including strings, integer literals and float literals"
   ]
  },
  {
   "cell_type": "code",
   "execution_count": 19,
   "metadata": {},
   "outputs": [],
   "source": [
    "x_str = str(123)\n",
    "x_int = int(100.5)\n",
    "x_flt = float(100.7)\n",
    "x_comp = complex(2j)\n",
    "x_list = list((\"apple\", \"banana\", \"cherry\"))\n",
    "x_tpl = tuple([\"apple\", \"banana\", \"cherry\"])\n",
    "x_dic = dict(name=\"Ali\", age=40)\n",
    "x_set = set((\"apple\", \"banana\", \"cherry\"))\n",
    "x_fset = frozenset((\"apple\", \"banana\", \"cherry\"))\n",
    "x_bol = bool(15)"
   ]
  },
  {
   "cell_type": "code",
   "execution_count": 20,
   "metadata": {},
   "outputs": [
    {
     "name": "stdout",
     "output_type": "stream",
     "text": [
      "20009934930430843\n"
     ]
    }
   ],
   "source": [
    "x = int('20009934930430843')   # x will be 20\n",
    "y = int(5.8) # y will be 5\n",
    "z = int(\"12\") # z will be 12\n",
    "#w = int(\"13d\") # Invalid literal \n",
    "print(x)"
   ]
  },
  {
   "cell_type": "code",
   "execution_count": 21,
   "metadata": {},
   "outputs": [
    {
     "name": "stdout",
     "output_type": "stream",
     "text": [
      "5.6\n"
     ]
    }
   ],
   "source": [
    "x = float(30)     # x will be 30.0\n",
    "y = float(4.5)   # y will be 4.5\n",
    "z = float(\"456\")   # z will be 456.0\n",
    "w = float(\"5.6\") # w will be 5.6\n",
    "#x_in = float(\"5.6c\") # Invalid literal\n",
    "print(w)"
   ]
  },
  {
   "cell_type": "code",
   "execution_count": 22,
   "metadata": {},
   "outputs": [],
   "source": [
    "x = str({'name':'Ali', 'age':40})\n",
    "y = str(56)    # y will be '56'\n",
    "z = str(20.0)  # z will be '20.0'"
   ]
  },
  {
   "cell_type": "code",
   "execution_count": 23,
   "metadata": {},
   "outputs": [
    {
     "name": "stdout",
     "output_type": "stream",
     "text": [
      "202020\n",
      "60\n"
     ]
    }
   ],
   "source": [
    "value = '20'\n",
    "prod_str = value * 3\n",
    "prod_int = int(value) * 3\n",
    "\n",
    "print(prod_str)\n",
    "print(prod_int)"
   ]
  },
  {
   "cell_type": "markdown",
   "metadata": {},
   "source": [
    "# Understanding \"Messy Code\"\n",
    "Messy code refers to code that is difficult to read, understand, or maintain. This could be due to several factors, such as:\n",
    "\n",
    "1. Lack of comments or documentation.\n",
    "2. Poorly named variables and functions.\n",
    "3. Complex or convoluted logic.\n",
    "\n",
    "Messy code often lacks clarity and structure, making it hard for other developers (or even the original author after some time) to work with it effectively.\n",
    "\n",
    "## Impact on Productivity\n",
    "When a programmer encounters messy code written by someone else, it can slow them down significantly for a few reasons:\n",
    "\n",
    "### Longer Learning Curve:\n",
    "- It takes more time to understand the messy code because it isn't intuitive. You have to spend extra effort deciphering what the code is doing.\n",
    "- There may be hidden bugs or side effects due to unclear logic or poor design, which aren't immediately obvious.\n",
    "\n",
    "### Debugging and Fixing Issues:\n",
    "- Messy code tends to be error-prone. Fixing one bug may introduce others because the codebase isn't clean or modular.\n",
    "- Debugging becomes challenging because of the difficulty in tracing through the logic.\n"
   ]
  },
  {
   "cell_type": "markdown",
   "metadata": {},
   "source": [
    "## Python Booleans\n",
    "\n",
    "Booleans represent one of two values: True or False."
   ]
  },
  {
   "cell_type": "code",
   "execution_count": 24,
   "metadata": {},
   "outputs": [
    {
     "name": "stdout",
     "output_type": "stream",
     "text": [
      "True\n",
      "False\n"
     ]
    }
   ],
   "source": [
    "x = True\n",
    "y = False\n",
    "\n",
    "print(x)\n",
    "print(y)"
   ]
  },
  {
   "cell_type": "code",
   "execution_count": 25,
   "metadata": {},
   "outputs": [
    {
     "name": "stdout",
     "output_type": "stream",
     "text": [
      "X is True\n"
     ]
    }
   ],
   "source": [
    "if x:\n",
    "    print(\"X is True\")\n",
    "else:\n",
    "    print(\"X is False\")"
   ]
  },
  {
   "cell_type": "code",
   "execution_count": 26,
   "metadata": {},
   "outputs": [
    {
     "name": "stdout",
     "output_type": "stream",
     "text": [
      "True\n",
      "False\n",
      "False\n"
     ]
    }
   ],
   "source": [
    "print(10 > 9)\n",
    "print(10 == 9)\n",
    "print(10 < 9)"
   ]
  },
  {
   "cell_type": "code",
   "execution_count": null,
   "metadata": {},
   "outputs": [],
   "source": []
  },
  {
   "cell_type": "code",
   "execution_count": 27,
   "metadata": {},
   "outputs": [
    {
     "name": "stdout",
     "output_type": "stream",
     "text": [
      "False\n",
      "True\n",
      "True\n"
     ]
    }
   ],
   "source": [
    "print(bool(0))\n",
    "print(bool(1))\n",
    "print(bool(-1))"
   ]
  },
  {
   "cell_type": "code",
   "execution_count": 28,
   "metadata": {},
   "outputs": [
    {
     "name": "stdout",
     "output_type": "stream",
     "text": [
      "True\n",
      "False\n",
      "False\n",
      "True\n",
      "True\n",
      "False\n"
     ]
    }
   ],
   "source": [
    "print(bool(\"Hello\"))\n",
    "print(bool(''))\n",
    "print(bool(\"\"))\n",
    "print(bool(' '))\n",
    "print(bool('None'))\n",
    "print(bool(None))"
   ]
  },
  {
   "cell_type": "code",
   "execution_count": 29,
   "metadata": {},
   "outputs": [
    {
     "name": "stdout",
     "output_type": "stream",
     "text": [
      "Not Equal\n"
     ]
    }
   ],
   "source": [
    "# In Python, NaN is a special floating-point value returned by certain operations \n",
    "# when one of their results ends in an undefined value. \n",
    "# A subtle feature of NaN values is that two NaN are never equal. \n",
    "\n",
    "if float('NaN') == float('NaN'):\n",
    "    print(\"Equal\")\n",
    "else:\n",
    "    print(\"Not Equal\")"
   ]
  },
  {
   "cell_type": "code",
   "execution_count": 30,
   "metadata": {},
   "outputs": [
    {
     "name": "stdout",
     "output_type": "stream",
     "text": [
      "True\n",
      "nan\n",
      "False\n"
     ]
    }
   ],
   "source": [
    "import numpy as np\n",
    "print(bool(np.nan))\n",
    "print(np.nan)\n",
    "\n",
    "if np.nan == np.nan:\n",
    "    print(True)\n",
    "else:\n",
    "    print(False)"
   ]
  },
  {
   "cell_type": "code",
   "execution_count": 31,
   "metadata": {},
   "outputs": [
    {
     "name": "stdout",
     "output_type": "stream",
     "text": [
      "False\n",
      "False\n",
      "False\n",
      "False\n"
     ]
    }
   ],
   "source": [
    "print(bool(None))\n",
    "print(bool(()))\n",
    "print(bool([]))\n",
    "print(bool({}))"
   ]
  },
  {
   "cell_type": "markdown",
   "metadata": {},
   "source": [
    "# Clean Code Definition\n",
    "Clean code is code that is easy to understand and maintain. It prioritizes readability and simplicity, allowing developers to quickly comprehend and work with it without unnecessary complexity.\n",
    "\n",
    "## Simple Rules for Creating Good Names\n",
    "\n",
    "### 1. Use Intention-Revealing Names\n",
    "Names should clearly communicate the purpose of the variable, function, or class.\n",
    "- **Example:** `days_until_expiration` is better than `dte`.\n",
    "\n",
    "### 2. Avoid Disinformation\n",
    "Names should not mislead or confuse the reader by implying something they don’t mean.\n",
    "- **Example:** Avoid using `accountList` if it’s not a list but a set.\n",
    "\n",
    "### 3. Make Meaningful Distinctions\n",
    "Names should be distinct and convey differences in intent or purpose.\n",
    "- **Example:** Instead of using names like `tempData` and `tempData1` for different data processing tasks, use more descriptive names like `userInputData` and `processedUserData`. This helps to clearly differentiate between the data representing raw user input and the data that has been processed.\n",
    "\n",
    "\n",
    "### 4. Use Pronounceable Names\n",
    "Names should be easy to say and communicate verbally.\n",
    "- **Example:** `customerOrder` is better than `custOrd`.\n",
    "\n",
    "### 5. Use Searchable Names\n",
    "Names should be easily searchable in the codebase.\n",
    "- **Example:** `errorCode` is more searchable than `e`.\n",
    "\n",
    "### 6. Avoid Encodings (Hungarian Notation)\n",
    "Do not use type prefixes or suffixes that add unnecessary complexity to the name.\n",
    "- **Example:** `firstName` is better than `strFirstName`.\n",
    "\n",
    "### 7. Don’t Be Cute\n",
    "Names should be professional and descriptive, not playful or quirky.\n",
    "- **Example:** `totalSum` is better than `bigMoney`.\n"
   ]
  },
  {
   "cell_type": "markdown",
   "metadata": {},
   "source": [
    "# Hungarian Notation\n",
    "\n",
    "Hungarian Notation is a naming convention in programming where the name of a variable indicates its type or purpose by prefixing it with a set of letters. This system was originally developed by Charles Simonyi, a Hungarian programmer, and was used to help convey the type or purpose of a variable at a glance.\n",
    "\n",
    "## Key Concepts of Hungarian Notation\n",
    "\n",
    "### **Type Prefixes**\n",
    "The notation involves using prefixes in variable names to indicate the type of the variable. For example:\n",
    "- `strName` for a string variable\n",
    "- `intAge` for an integer variable\n",
    "- `btnSubmit` for a button control\n",
    "\n",
    "### **Purpose Prefixes**\n",
    "In addition to type, Hungarian Notation can use prefixes to indicate the purpose of the variable:\n",
    "- `btn` for button controls\n",
    "- `txt` for text boxes\n",
    "- `lbl` for labels\n",
    "\n",
    "## Examples\n",
    "\n",
    "### **Type-Based Prefixes:**\n",
    "- `strFirstName` — Indicates a string variable holding a first name.\n",
    "- `intCount` — Indicates an integer variable for counting.\n",
    "- `dblPrice` — Indicates a double (floating-point) variable for price.\n",
    "\n",
    "### **Purpose-Based Prefixes:**\n",
    "- `btnSubmit` — Indicates a button used for submission.\n",
    "- `txtUsername` — Indicates a text box for entering a username.\n",
    "- `lblStatus` — Indicates a label showing status information.\n",
    "\n",
    "## Pros and Cons\n",
    "\n",
    "### **Pros:**\n",
    "- **Immediate Type Information**: Provides quick information about the variable's type, which can be helpful in languages with weak or no type enforcement.\n",
    "- **Consistency**: Helps maintain consistency in variable naming across large codebases.\n",
    "\n",
    "### **Cons:**\n",
    "- **Redundancy**: In modern strongly-typed languages, the type is often clear from the variable's declaration, making the prefix redundant.\n",
    "- **Readability**: Can reduce readability by adding unnecessary complexity to variable names.\n",
    "- **Maintenance**: Changes in data types require updates to variable names, which can be cumbersome.\n",
    "\n",
    "## Modern Perspective\n",
    "\n",
    "Hungarian Notation is less common in modern programming practices, especially in strongly-typed languages like Python, Java, and C#, where type information is often inferred or clearly defined by the language’s syntax. However, understanding Hungarian Notation can still be valuable for reading and maintaining legacy codebases where it is used.\n"
   ]
  },
  {
   "cell_type": "markdown",
   "metadata": {},
   "source": [
    "## Python Operators\n",
    "\n",
    "In Python the operators are divided in the following groups:\n",
    "\n",
    "1. Arithmetic operators\n",
    "2. Assignment operators\n",
    "3. Comparison operators\n",
    "4. Logical operators\n",
    "5. Identity operators\n",
    "6. Membership operators\n",
    "7. Bitwise operators"
   ]
  },
  {
   "cell_type": "code",
   "execution_count": 32,
   "metadata": {},
   "outputs": [
    {
     "name": "stdout",
     "output_type": "stream",
     "text": [
      "225\n",
      "7\n"
     ]
    }
   ],
   "source": [
    "## Python Arithmetic Operators\n",
    "x = 15 \n",
    "y = 2\n",
    "\n",
    "res_add = x + y\n",
    "res_sub = x - y\n",
    "res_mul = x * y\n",
    "res_div = x / y\n",
    "res_mod = x % y\n",
    "res_floor = x // y # Floor division\n",
    "\n",
    "res_exp = x ** y\n",
    "print(res_exp)\n",
    "print(res_floor)"
   ]
  },
  {
   "cell_type": "code",
   "execution_count": 33,
   "metadata": {},
   "outputs": [],
   "source": [
    "# Augmented or compound assignment"
   ]
  },
  {
   "cell_type": "code",
   "execution_count": 34,
   "metadata": {},
   "outputs": [
    {
     "name": "stdout",
     "output_type": "stream",
     "text": [
      "x:  5\n",
      "x + 3:  8\n",
      "x - 3:  5\n",
      "x * 3:  15\n",
      "x / 3:  5.0\n",
      "x ** 3:  125.0\n",
      "x // 3:  41.0\n",
      "x % 3:  2.0\n"
     ]
    }
   ],
   "source": [
    "# Python Assignment Operators\n",
    "x = 5 # x = 5\n",
    "print(\"x: \", x)\n",
    "\n",
    "x += 3 # x = x + 3\n",
    "print(\"x + 3: \", x)\n",
    "x -= 3 # x = x - 3\n",
    "print(\"x - 3: \", x)\n",
    "x *= 3 # x = x * 3\n",
    "print(\"x * 3: \", x)\n",
    "x /= 3 # x = x / 3\n",
    "print(\"x / 3: \", x)\n",
    "x **= 3 # x = x ** 3\n",
    "print(\"x ** 3: \", x)\n",
    "x //= 3 # x = x // 3\n",
    "print(\"x // 3: \", x)\n",
    "x %= 3 # x = x % 3\n",
    "print(\"x % 3: \", x)"
   ]
  },
  {
   "cell_type": "code",
   "execution_count": null,
   "metadata": {},
   "outputs": [],
   "source": []
  },
  {
   "cell_type": "code",
   "execution_count": 83,
   "metadata": {},
   "outputs": [
    {
     "name": "stdout",
     "output_type": "stream",
     "text": [
      "\n",
      "x:  6\n",
      "x & 3:  2\n",
      "\n",
      "x:  6\n",
      "x | 3:  7\n",
      "\n",
      "x:  6\n",
      "x ^ 3:  5\n",
      "\n",
      "x:  6\n",
      "x >> 1:  3\n",
      "\n",
      "x:  6\n",
      "x << 2:  24\n"
     ]
    }
   ],
   "source": [
    "# Python Bitwise assignment\n",
    "x = 6\n",
    "print(\"\\nx: \", x)\n",
    "\n",
    "x &= 3                      # x = x & 3 \n",
    "print(\"x & 3: \", x)\n",
    "\n",
    "x = 6\n",
    "print(\"\\nx: \", x)\n",
    "x |= 3                      # x = x | 3\n",
    "print(\"x | 3: \", x)\n",
    "\n",
    "x = 6\n",
    "print(\"\\nx: \", x)\n",
    "x ^= 3                      # x = x ^ 3\n",
    "print(\"x ^ 3: \", x)         # XOR\n",
    "\n",
    "x = 6\n",
    "print(\"\\nx: \", x)\n",
    "x >>= 1                      # x = x >> 3, Signed right shift\n",
    "print(\"x >> 1: \", x)\n",
    "\n",
    "x = 6\n",
    "print(\"\\nx: \", x)\n",
    "x <<= 2                     # x = x << 3, Zero fill left shift\n",
    "print(\"x << 2: \", x)\n",
    "\n",
    "#x=6 => 00000110\n",
    "#3   => 00000011\n",
    "#x&3 => 00000010 = 2"
   ]
  },
  {
   "cell_type": "code",
   "execution_count": 36,
   "metadata": {},
   "outputs": [],
   "source": [
    "# Left and Right cannot be applied on float type.\n",
    "# One  Left Shift:    x = x*2\n",
    "# One Right Shift:    x = int(floor(x/2))"
   ]
  },
  {
   "cell_type": "code",
   "execution_count": null,
   "metadata": {},
   "outputs": [],
   "source": []
  },
  {
   "cell_type": "code",
   "execution_count": 37,
   "metadata": {},
   "outputs": [
    {
     "name": "stdout",
     "output_type": "stream",
     "text": [
      "\n",
      "x:  0\n",
      "~x:  -1\n"
     ]
    }
   ],
   "source": [
    "x = 0\n",
    "print(\"\\nx: \", x)\n",
    "x = ~x                     # x = ~x => NOT => Inverts all the bits (Returns one’s complement of the number)\n",
    "print(\"~x: \", x)\n",
    "\n",
    "#x=6 => 00000110\n",
    "#~x  => -(00000110 + 1) => -(00000111dict={2:\"ALi\",2) => -7"
   ]
  },
  {
   "cell_type": "code",
   "execution_count": 38,
   "metadata": {},
   "outputs": [
    {
     "name": "stdout",
     "output_type": "stream",
     "text": [
      "8\n",
      "8\n"
     ]
    }
   ],
   "source": [
    "import numpy as np\n",
    "x = 17\n",
    "print(x>>1)\n",
    "print(int(np.floor(x/2)))"
   ]
  },
  {
   "cell_type": "code",
   "execution_count": 39,
   "metadata": {},
   "outputs": [
    {
     "name": "stdout",
     "output_type": "stream",
     "text": [
      "5 == 7 False\n",
      "5 != 7 True\n",
      "5 > 7 False\n",
      "5 < 7 True\n",
      "5 >= 7 False\n",
      "5 <= 7 True\n"
     ]
    }
   ],
   "source": [
    "# Python Comparison Operators\n",
    "a = 5\n",
    "b = 7\n",
    "print(a,\"==\",b, a==b)\n",
    "print(a,\"!=\",b, a!=b)\n",
    "print(a,\">\",b, a>b)\n",
    "print(a,\"<\",b, a<b)\n",
    "print(a,\">=\",b, a>=b)\n",
    "print(a,\"<=\",b, a<=b)\n"
   ]
  },
  {
   "cell_type": "code",
   "execution_count": 40,
   "metadata": {},
   "outputs": [
    {
     "name": "stdout",
     "output_type": "stream",
     "text": [
      "True and False = False\n",
      "True or False = True\n",
      "not True = False\n"
     ]
    }
   ],
   "source": [
    "# Python Logical Operators\n",
    "x = True\n",
    "y = False\n",
    "print(x, \"and\", y, \"=\", x and y)\n",
    "print(x, \"or\", y, \"=\", x or y)\n",
    "print(\"not\", x, \"=\", not x) \n",
    "\n",
    "# print(*objects)  \n",
    "# Method with *objects means multiple arguments, \n",
    "# Here print takes multiple arguments, each argument separated by a space. "
   ]
  },
  {
   "cell_type": "code",
   "execution_count": 41,
   "metadata": {},
   "outputs": [
    {
     "name": "stdout",
     "output_type": "stream",
     "text": [
      "True\n",
      "False\n",
      "10074304\n",
      "10074304\n",
      "8\n"
     ]
    }
   ],
   "source": [
    "# Python Identity Operators (Interning i.e. string interning or int interning)\n",
    "x = \"Python\"\n",
    "y = \"Python\"\n",
    "\n",
    "# Both variable x and y point to same value in Heap\n",
    "print(x is y)          # Returns True if both variables are the same\n",
    "print(x is not y)      # Returns True if both variables are not the same\n",
    "\n",
    "print(id(x))\n",
    "print(id(y))\n",
    "id_v = str(id(y))\n",
    "print(len(id_v))"
   ]
  },
  {
   "cell_type": "code",
   "execution_count": null,
   "metadata": {},
   "outputs": [],
   "source": []
  },
  {
   "cell_type": "code",
   "execution_count": 42,
   "metadata": {},
   "outputs": [
    {
     "name": "stdout",
     "output_type": "stream",
     "text": [
      "True\n",
      "False\n"
     ]
    }
   ],
   "source": [
    "# Python Membership Operators\n",
    "\n",
    "x = [[5,10,15],20]\n",
    "y = [5,10,15]\n",
    "print(y in x)          # Returns True if a sequence with the specified value is present in the object\n",
    "print(y not in x)      # Returns True if a sequence with the specified value is not present in the object\n"
   ]
  },
  {
   "cell_type": "code",
   "execution_count": null,
   "metadata": {},
   "outputs": [],
   "source": []
  },
  {
   "cell_type": "markdown",
   "metadata": {},
   "source": [
    "# Python Lists\n",
    "\n",
    "Four collection data types in the Python:\n",
    "\n",
    "1. List: is a collection which is ordered and changeable. Allows duplicate members\n",
    "2. Tuple: is a collection which is ordered and unchangeable. Allows duplicate members\n",
    "3. Set: is a collection which is unordered and unindexed. No duplicate members\n",
    "4. Dictionary: is a collection which is unordered, changeable and indexed. No duplicate members (Keys are unique not values)\n",
    "\n",
    "When choosing a collection type, it is useful to understand the properties of that type. "
   ]
  },
  {
   "cell_type": "code",
   "execution_count": 43,
   "metadata": {},
   "outputs": [
    {
     "name": "stdout",
     "output_type": "stream",
     "text": [
      "['apple', 'banana', 'cherry']\n"
     ]
    }
   ],
   "source": [
    "# List\n",
    "my_list = [\"apple\", \"banana\", \"cherry\"]\n",
    "print(my_list)"
   ]
  },
  {
   "cell_type": "code",
   "execution_count": 44,
   "metadata": {},
   "outputs": [
    {
     "name": "stdout",
     "output_type": "stream",
     "text": [
      "('apple', 'banana', 'cherry')\n"
     ]
    }
   ],
   "source": [
    "# Tuple\n",
    "my_list = (\"apple\", \"banana\", \"cherry\")\n",
    "print(my_list)"
   ]
  },
  {
   "cell_type": "markdown",
   "metadata": {},
   "source": [
    "## Python Tuples\n",
    "A tuple is a collection which is ordered and unchangeable or immutable."
   ]
  },
  {
   "cell_type": "code",
   "execution_count": 45,
   "metadata": {},
   "outputs": [
    {
     "name": "stdout",
     "output_type": "stream",
     "text": [
      "('guava', 'orange', 12)\n"
     ]
    }
   ],
   "source": [
    "mytuple = (\"apple\", \"banana\", \"cherry\", \"guava\", \"orange\", 12, 5.0,\"Ali\")\n",
    "#print(mytuple[0])\n",
    "#print(mytuple[-3])\n",
    "print(mytuple[3:6])"
   ]
  },
  {
   "cell_type": "code",
   "execution_count": 46,
   "metadata": {},
   "outputs": [
    {
     "name": "stdout",
     "output_type": "stream",
     "text": [
      "apple\n",
      "banana\n",
      "cherry\n",
      "guava\n",
      "orange\n",
      "12\n",
      "5.0\n",
      "Ali\n"
     ]
    }
   ],
   "source": [
    "for x in mytuple:\n",
    "    print(x)"
   ]
  },
  {
   "cell_type": "code",
   "execution_count": 47,
   "metadata": {},
   "outputs": [
    {
     "name": "stdout",
     "output_type": "stream",
     "text": [
      "apple\n",
      "banana\n",
      "cherry\n",
      "guava\n",
      "orange\n",
      "12\n",
      "5.0\n",
      "Ali\n"
     ]
    }
   ],
   "source": [
    "for x in range(len(mytuple)):\n",
    "    print(mytuple[x])"
   ]
  },
  {
   "cell_type": "code",
   "execution_count": 48,
   "metadata": {},
   "outputs": [],
   "source": [
    "# Deleting tuple \n",
    "mytuple = (\"apple\", \"banana\", \"cherry\")\n",
    "del mytuple\n",
    "#print(mytuple)\n"
   ]
  },
  {
   "cell_type": "code",
   "execution_count": 49,
   "metadata": {},
   "outputs": [
    {
     "name": "stdout",
     "output_type": "stream",
     "text": [
      "('apple', 'banana', 'orange', 'guava', 'orange', 'lemon')\n"
     ]
    }
   ],
   "source": [
    "# Combining two tuples\n",
    "mytuple1 = (\"apple\", \"banana\", \"orange\")\n",
    "mytuple2 = (\"guava\", \"orange\", \"lemon\")\n",
    "mytuple3 = mytuple1 + mytuple2 \n",
    "\n",
    "print(mytuple3)"
   ]
  },
  {
   "cell_type": "code",
   "execution_count": 50,
   "metadata": {},
   "outputs": [
    {
     "name": "stdout",
     "output_type": "stream",
     "text": [
      "3\n",
      "2\n"
     ]
    }
   ],
   "source": [
    "# Search specific value and returns the position of first occurrence in a tuple\n",
    "index_num = mytuple3.index('guava')\n",
    "print(index_num)\n",
    "\n",
    "# Count all items with specific value in a tuple \n",
    "count_items = mytuple3.count('orange')\n",
    "print(count_items)\n"
   ]
  },
  {
   "cell_type": "markdown",
   "metadata": {},
   "source": [
    "## Python Sets\n",
    "A set is a collection which is unordered and unindexed.\n",
    "\n",
    "As it is unordered, therefore items cannot be accessed by referring to an index or a key.\n",
    "\n"
   ]
  },
  {
   "cell_type": "code",
   "execution_count": 51,
   "metadata": {},
   "outputs": [
    {
     "data": {
      "text/plain": [
       "{'apple', 'banana', 'cherry'}"
      ]
     },
     "execution_count": 51,
     "metadata": {},
     "output_type": "execute_result"
    }
   ],
   "source": [
    "myset = {\"apple\", \"banana\", \"cherry\"}\n",
    "myset"
   ]
  },
  {
   "cell_type": "code",
   "execution_count": null,
   "metadata": {},
   "outputs": [],
   "source": []
  },
  {
   "cell_type": "code",
   "execution_count": 52,
   "metadata": {},
   "outputs": [
    {
     "name": "stdout",
     "output_type": "stream",
     "text": [
      "cherry\n",
      "apple\n",
      "banana\n"
     ]
    }
   ],
   "source": [
    "for item in myset:\n",
    "    print(item)\n"
   ]
  },
  {
   "cell_type": "code",
   "execution_count": 53,
   "metadata": {},
   "outputs": [
    {
     "name": "stdout",
     "output_type": "stream",
     "text": [
      "Yes exist\n"
     ]
    }
   ],
   "source": [
    "if 'cherry' in myset:\n",
    "    print(\"Yes exist\")"
   ]
  },
  {
   "cell_type": "code",
   "execution_count": 54,
   "metadata": {},
   "outputs": [
    {
     "name": "stdout",
     "output_type": "stream",
     "text": [
      "{'cherry', 'apple', 'banana', 'lemon'}\n"
     ]
    }
   ],
   "source": [
    "myset.add('lemon')\n",
    "print(myset)"
   ]
  },
  {
   "cell_type": "code",
   "execution_count": 55,
   "metadata": {},
   "outputs": [
    {
     "name": "stdout",
     "output_type": "stream",
     "text": [
      "{'cherry', 'apple', 'banana', 'lemon'}\n"
     ]
    }
   ],
   "source": [
    "#myset.remove('lemon') # Get error if lemon not in set\n",
    "print(myset)\n",
    "\n",
    "myset.discard(\"lemon\") # No error although if lemon not in set\n"
   ]
  },
  {
   "cell_type": "code",
   "execution_count": 56,
   "metadata": {},
   "outputs": [
    {
     "data": {
      "text/plain": [
       "{'apple', 'banana', 'cherry', 'guava', 'lemon'}"
      ]
     },
     "execution_count": 56,
     "metadata": {},
     "output_type": "execute_result"
    }
   ],
   "source": [
    "#myset.update({'lemon','guava'}) # set  working\n",
    "#myset.update(['lemon','guava']) # list also working\n",
    "myset.update(('lemon','guava')) # tuple also working\n",
    "myset"
   ]
  },
  {
   "cell_type": "markdown",
   "metadata": {},
   "source": [
    "## Python Dictionaries\n",
    "A dictionary is a key value pair collection which is unordered, mutable and indexed. \n"
   ]
  },
  {
   "cell_type": "code",
   "execution_count": 57,
   "metadata": {},
   "outputs": [
    {
     "name": "stdout",
     "output_type": "stream",
     "text": [
      "{'name': 'Ali', 'age': 30, 'address': 'House#400, Street#12'}\n"
     ]
    }
   ],
   "source": [
    "mydict = {\n",
    "  \"name\": \"Ali\",\n",
    "  \"age\": 30,\n",
    "  \"address\": \"House#400, Street#12\"\n",
    "}\n",
    "print(mydict)"
   ]
  },
  {
   "cell_type": "code",
   "execution_count": 58,
   "metadata": {},
   "outputs": [
    {
     "name": "stdout",
     "output_type": "stream",
     "text": [
      "Ali\n"
     ]
    }
   ],
   "source": [
    "name = mydict['name']\n",
    "print(name)"
   ]
  },
  {
   "cell_type": "code",
   "execution_count": 59,
   "metadata": {},
   "outputs": [
    {
     "name": "stdout",
     "output_type": "stream",
     "text": [
      "Ali\n"
     ]
    }
   ],
   "source": [
    "# You can also used get() method of dictionaly to access value\n",
    "name = mydict.get('name')\n",
    "print(name)"
   ]
  },
  {
   "cell_type": "markdown",
   "metadata": {},
   "source": [
    "## Python Conditions (if), (if and else), (if, elif and else )\n",
    "To define scope of body of the condistion, Python uses indentation (whitespace, preferably 4 white spaces) "
   ]
  },
  {
   "cell_type": "code",
   "execution_count": 60,
   "metadata": {},
   "outputs": [
    {
     "name": "stdout",
     "output_type": "stream",
     "text": [
      "x is less than y\n"
     ]
    }
   ],
   "source": [
    "# If statement\n",
    "\n",
    "x = 100\n",
    "y = 300\n",
    "\n",
    "if x < y:\n",
    "    print(\"x is less than y\")"
   ]
  },
  {
   "cell_type": "code",
   "execution_count": null,
   "metadata": {},
   "outputs": [],
   "source": []
  },
  {
   "cell_type": "code",
   "execution_count": 61,
   "metadata": {},
   "outputs": [
    {
     "name": "stdout",
     "output_type": "stream",
     "text": [
      "x is not less than y\n"
     ]
    }
   ],
   "source": [
    "# If else statement\n",
    "\n",
    "x = 400\n",
    "y = 300\n",
    "\n",
    "if x < y:\n",
    "    print(\"x is less than y\")\n",
    "    \n",
    "else:\n",
    "    print(\"x is not less than y\")\n",
    "    \n",
    "    "
   ]
  },
  {
   "cell_type": "code",
   "execution_count": 62,
   "metadata": {},
   "outputs": [
    {
     "name": "stdout",
     "output_type": "stream",
     "text": [
      "Both are equal\n"
     ]
    }
   ],
   "source": [
    "# If elif else statement\n",
    "x = 300\n",
    "y = 300\n",
    "\n",
    "if x < y:\n",
    "    print(\"x is less than y\")\n",
    "    \n",
    "elif x > y:\n",
    "    print(\"x is greater than y\")\n",
    "    \n",
    "else:\n",
    "    print(\"Both are equal\")\n",
    "    \n",
    "\n"
   ]
  },
  {
   "cell_type": "code",
   "execution_count": 63,
   "metadata": {},
   "outputs": [
    {
     "name": "stdout",
     "output_type": "stream",
     "text": [
      "x is less than y\n"
     ]
    }
   ],
   "source": [
    "x = 100\n",
    "y = 120\n",
    "if x < y: print(\"x is less than y\")"
   ]
  },
  {
   "cell_type": "code",
   "execution_count": 64,
   "metadata": {},
   "outputs": [
    {
     "name": "stdout",
     "output_type": "stream",
     "text": [
      "Both are equal\n"
     ]
    }
   ],
   "source": [
    "# Ternary Operators (Short Hand) for If Else condition\n",
    "# Java and C/C++ Syntax:    max = (n1 > n2) ? n1 : n2;\n",
    "# We can use nested ternary operators, however, your code will be less readable\n",
    "# val = (n1 > n2) ? \"n1 greater\" : (n1 < n2) ? \"n2 greater\" : \"Both Equal\";\n",
    "\n",
    "# Assign ternary result to a variable\n",
    "x = 100\n",
    "y = 100\n",
    "\n",
    "# If - Elif- Else\n",
    "my_val = \"x greater\" if x > y else \"y greater\" if x < y else \"Both are equal\"\n",
    "print(my_val)"
   ]
  },
  {
   "cell_type": "code",
   "execution_count": 65,
   "metadata": {},
   "outputs": [
    {
     "name": "stdout",
     "output_type": "stream",
     "text": [
      "y greater\n"
     ]
    }
   ],
   "source": [
    "x = 50\n",
    "y = 100\n",
    "\n",
    "# If - Elif- Else\n",
    "print(\"x greater\") if x > y else print(\"y greater\") if x < y else print(\"Both are equal\")"
   ]
  },
  {
   "cell_type": "code",
   "execution_count": null,
   "metadata": {},
   "outputs": [],
   "source": []
  },
  {
   "cell_type": "code",
   "execution_count": 66,
   "metadata": {},
   "outputs": [
    {
     "name": "stdout",
     "output_type": "stream",
     "text": [
      "Both are equal\n"
     ]
    }
   ],
   "source": [
    "# Using logical operators in conditions\n",
    "x = 100\n",
    "y = 100\n",
    "\n",
    "if not (x < y) and not (x > y):\n",
    "    print(\"Both are equal\")"
   ]
  },
  {
   "cell_type": "code",
   "execution_count": null,
   "metadata": {},
   "outputs": [],
   "source": []
  },
  {
   "cell_type": "code",
   "execution_count": 67,
   "metadata": {},
   "outputs": [
    {
     "name": "stdout",
     "output_type": "stream",
     "text": [
      "Both are equal\n"
     ]
    }
   ],
   "source": [
    "x = 100\n",
    "y = 100\n",
    "if not (x < y or x > y):\n",
    "    print(\"Both are equal\")"
   ]
  },
  {
   "cell_type": "markdown",
   "metadata": {},
   "source": [
    "## Python Loops\n",
    "To define scope of body of the condition, Python uses indentation (whitespace, preferably 4 white spaces) \n",
    "\n",
    "Python has two primitive loops (for and while)\n",
    "\n"
   ]
  },
  {
   "cell_type": "markdown",
   "metadata": {},
   "source": [
    "### For Loop"
   ]
  },
  {
   "cell_type": "code",
   "execution_count": 68,
   "metadata": {},
   "outputs": [
    {
     "name": "stdout",
     "output_type": "stream",
     "text": [
      "apple\n",
      "banana\n",
      "cherry\n"
     ]
    }
   ],
   "source": [
    "fruits = [\"apple\", \"banana\", \"cherry\"]\n",
    "for fruit in fruits:\n",
    "    print(fruit)"
   ]
  },
  {
   "cell_type": "code",
   "execution_count": 69,
   "metadata": {},
   "outputs": [
    {
     "name": "stdout",
     "output_type": "stream",
     "text": [
      "P\n",
      "a\n",
      "k\n",
      "i\n",
      "s\n",
      "t\n",
      "a\n",
      "n\n"
     ]
    }
   ],
   "source": [
    "# Loop through string value\n",
    "for x in  \"Pakistan\":\n",
    "    print(x)"
   ]
  },
  {
   "cell_type": "code",
   "execution_count": 70,
   "metadata": {},
   "outputs": [
    {
     "name": "stdout",
     "output_type": "stream",
     "text": [
      "0\n",
      "1\n",
      "2\n",
      "3\n",
      "4\n"
     ]
    }
   ],
   "source": [
    "# For loop with range() fuction\n",
    "size = 5\n",
    "for i in range(size):  # in range(5), the loop will stop just before 5, so 5 is exclusive\n",
    "    print(i)\n",
    "    "
   ]
  },
  {
   "cell_type": "code",
   "execution_count": 71,
   "metadata": {
    "scrolled": true
   },
   "outputs": [
    {
     "name": "stdout",
     "output_type": "stream",
     "text": [
      "3\n",
      "8\n"
     ]
    }
   ],
   "source": [
    "for i in range(3,12,5):\n",
    "    print(i)"
   ]
  },
  {
   "cell_type": "code",
   "execution_count": 72,
   "metadata": {},
   "outputs": [
    {
     "name": "stdout",
     "output_type": "stream",
     "text": [
      "5050\n"
     ]
    }
   ],
   "source": [
    "# Sum integer values within range 100\n",
    "sum = 0\n",
    "for i in range(101): \n",
    "    sum += i\n",
    "print(sum)"
   ]
  },
  {
   "cell_type": "code",
   "execution_count": 73,
   "metadata": {},
   "outputs": [
    {
     "name": "stdout",
     "output_type": "stream",
     "text": [
      "1275\n"
     ]
    }
   ],
   "source": [
    "# Sum integer values within range less than 50 (using break command)\n",
    "sum = 0\n",
    "for i in range(101): \n",
    "    if i == 51:\n",
    "        break\n",
    "    sum += i\n",
    "    \n",
    "print(sum)"
   ]
  },
  {
   "cell_type": "code",
   "execution_count": null,
   "metadata": {},
   "outputs": [],
   "source": []
  },
  {
   "cell_type": "code",
   "execution_count": 74,
   "metadata": {},
   "outputs": [
    {
     "name": "stdout",
     "output_type": "stream",
     "text": [
      "2550\n"
     ]
    }
   ],
   "source": [
    "# Sum even values within range (using continue command)\n",
    "sum = 0\n",
    "for i in range(101): \n",
    "    if i%2 != 0:\n",
    "        continue\n",
    "    sum += i\n",
    "    \n",
    "print(sum)\n"
   ]
  },
  {
   "cell_type": "code",
   "execution_count": 75,
   "metadata": {},
   "outputs": [
    {
     "name": "stdout",
     "output_type": "stream",
     "text": [
      "0,1,2,3,4,5,\n",
      "0,1,2,3,4,5,\n",
      "0,1,2,3,4,5,\n",
      "0,1,2,3,4,5,\n",
      "0,1,2,3,4,5,\n"
     ]
    }
   ],
   "source": [
    "# Nested for loop\n",
    "for i in range(5):\n",
    "    row = \"\"\n",
    "    for j in range(6):\n",
    "        row = row + str(j) + \",\"\n",
    "    print(row)"
   ]
  },
  {
   "cell_type": "markdown",
   "metadata": {},
   "source": [
    "### While Loop"
   ]
  },
  {
   "cell_type": "code",
   "execution_count": 76,
   "metadata": {},
   "outputs": [
    {
     "name": "stdout",
     "output_type": "stream",
     "text": [
      "5050\n"
     ]
    }
   ],
   "source": [
    "# Sum integer values within range\n",
    "sum = 0\n",
    "i = 1\n",
    "while i <= 100:\n",
    "    sum += i\n",
    "    i += 1\n",
    "print(sum)"
   ]
  },
  {
   "cell_type": "code",
   "execution_count": 77,
   "metadata": {},
   "outputs": [
    {
     "name": "stdout",
     "output_type": "stream",
     "text": [
      "1275\n"
     ]
    }
   ],
   "source": [
    "# Sum integer values within range less than 50 (using break command)\n",
    "sum = 0\n",
    "i = 1\n",
    "while i <= 100:\n",
    "    sum += i\n",
    "    i += 1\n",
    "    if i == 51:\n",
    "        break\n",
    "    \n",
    "print(sum)"
   ]
  },
  {
   "cell_type": "code",
   "execution_count": 78,
   "metadata": {},
   "outputs": [
    {
     "name": "stdout",
     "output_type": "stream",
     "text": [
      "2550\n"
     ]
    }
   ],
   "source": [
    "# Sum even values within range (using continue command)\n",
    "sum = 0\n",
    "i = 1\n",
    "while i <= 100:\n",
    "\n",
    "    if i%2 != 0:\n",
    "        i += 1\n",
    "        continue\n",
    "        \n",
    "    sum += i\n",
    "    i += 1\n",
    "    \n",
    "print(sum)"
   ]
  },
  {
   "cell_type": "code",
   "execution_count": 79,
   "metadata": {},
   "outputs": [
    {
     "name": "stdout",
     "output_type": "stream",
     "text": [
      "0,1,2,3,4,5,\n",
      "0,1,2,3,4,5,\n",
      "0,1,2,3,4,5,\n",
      "0,1,2,3,4,5,\n",
      "0,1,2,3,4,5,\n"
     ]
    }
   ],
   "source": [
    "# Nested while loop\n",
    "i = 0\n",
    "while i < 5:\n",
    "    row = \"\"\n",
    "\n",
    "    j = 0\n",
    "    while j < 6:\n",
    "        row = row + str(j) + \",\"\n",
    "        j += 1\n",
    "    print(row)\n",
    "    i += 1"
   ]
  },
  {
   "cell_type": "code",
   "execution_count": 80,
   "metadata": {},
   "outputs": [
    {
     "name": "stdout",
     "output_type": "stream",
     "text": [
      "Sum =  0\n",
      "Enter New number to add\n"
     ]
    },
    {
     "name": "stdin",
     "output_type": "stream",
     "text": [
      " 2\n"
     ]
    },
    {
     "name": "stdout",
     "output_type": "stream",
     "text": [
      "Sum =  2\n",
      "Enter New number to add\n"
     ]
    },
    {
     "name": "stdin",
     "output_type": "stream",
     "text": [
      " 1\n"
     ]
    },
    {
     "name": "stdout",
     "output_type": "stream",
     "text": [
      "Sum =  3\n",
      "Enter New number to add\n"
     ]
    },
    {
     "name": "stdin",
     "output_type": "stream",
     "text": [
      " 1\n"
     ]
    },
    {
     "name": "stdout",
     "output_type": "stream",
     "text": [
      "Sum =  4\n",
      "Enter New number to add\n"
     ]
    },
    {
     "name": "stdin",
     "output_type": "stream",
     "text": [
      " 1\n"
     ]
    },
    {
     "name": "stdout",
     "output_type": "stream",
     "text": [
      "Sum =  5\n",
      "Enter New number to add\n"
     ]
    },
    {
     "name": "stdin",
     "output_type": "stream",
     "text": [
      " q\n"
     ]
    }
   ],
   "source": [
    "sum = 0\n",
    "input_value = 0\n",
    "while input_value != 'q':\n",
    "    sum += int(input_value)\n",
    "    print(\"Sum = \", sum)\n",
    "    print(\"Enter New number to add\")\n",
    "    input_value = input()\n",
    "\n",
    "\n",
    "# Note: We cannot use for loop for implementing such logic, since for loops \n",
    "# are typically used for iterating over a known sequence. "
   ]
  },
  {
   "cell_type": "code",
   "execution_count": null,
   "metadata": {},
   "outputs": [],
   "source": []
  }
 ],
 "metadata": {
  "kernelspec": {
   "display_name": "Python 3 (ipykernel)",
   "language": "python",
   "name": "python3"
  },
  "language_info": {
   "codemirror_mode": {
    "name": "ipython",
    "version": 3
   },
   "file_extension": ".py",
   "mimetype": "text/x-python",
   "name": "python",
   "nbconvert_exporter": "python",
   "pygments_lexer": "ipython3",
   "version": "3.11.9"
  }
 },
 "nbformat": 4,
 "nbformat_minor": 4
}
