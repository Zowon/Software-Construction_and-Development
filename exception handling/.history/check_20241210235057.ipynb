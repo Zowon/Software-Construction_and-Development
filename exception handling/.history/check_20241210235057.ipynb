{
 "cells": [
  {
   "cell_type": "code",
   "execution_count": 2,
   "metadata": {},
   "outputs": [],
   "source": [
    "# Example of handling exceptions with try and except\n",
    "try:\n",
    "    # Attempt to convert input to an integer\n",
    "    num = int(input(\"Enter a number: \"))  # May raise ValueError\n",
    "    result = 10 / num  # May raise ZeroDivisionError\n",
    "except ZeroDivisionError:\n",
    "    # Handle division by zero error\n",
    "    print(\"Error: Division by zero is not allowed.\")\n",
    "except ValueError:\n",
    "    # Handle invalid input error\n",
    "    print(\"Error: Please enter a valid number.\")"
   ]
  }
 ],
 "metadata": {
  "kernelspec": {
   "display_name": "base",
   "language": "python",
   "name": "python3"
  },
  "language_info": {
   "codemirror_mode": {
    "name": "ipython",
    "version": 3
   },
   "file_extension": ".py",
   "mimetype": "text/x-python",
   "name": "python",
   "nbconvert_exporter": "python",
   "pygments_lexer": "ipython3",
   "version": "3.12.7"
  }
 },
 "nbformat": 4,
 "nbformat_minor": 2
}
