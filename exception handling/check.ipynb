{
 "cells": [
  {
   "cell_type": "code",
   "execution_count": 4,
   "metadata": {},
   "outputs": [],
   "source": [
    "# Example of handling exceptions with try and except\n",
    "try:\n",
    "    # Attempt to convert input to an integer\n",
    "    num = int(input(\"Enter a number: \"))  # May raise ValueError\n",
    "    result = 10 / num  # May raise ZeroDivisionError\n",
    "except ZeroDivisionError:\n",
    "    # Handle division by zero error\n",
    "    print(\"Error: Division by zero is not allowed.\")\n",
    "except ValueError:\n",
    "    # Handle invalid input error\n",
    "    print(\"Error: Please enter a valid number.\")"
   ]
  },
  {
   "cell_type": "code",
   "execution_count": 5,
   "metadata": {},
   "outputs": [
    {
     "name": "stdout",
     "output_type": "stream",
     "text": [
      "Success! The result is: 0.009000900090009001\n"
     ]
    }
   ],
   "source": [
    "# Example of using the else block\n",
    "try:\n",
    "    # Attempt to perform the operations\n",
    "    num = int(input(\"Enter a number: \"))\n",
    "    result = 10 / num\n",
    "except ZeroDivisionError:\n",
    "    # Handle division by zero\n",
    "    print(\"Error: Division by zero.\")\n",
    "else:\n",
    "    # This block runs only if no exceptions occur\n",
    "    print(\"Success! The result is:\", result)\n"
   ]
  }
 ],
 "metadata": {
  "kernelspec": {
   "display_name": "base",
   "language": "python",
   "name": "python3"
  },
  "language_info": {
   "codemirror_mode": {
    "name": "ipython",
    "version": 3
   },
   "file_extension": ".py",
   "mimetype": "text/x-python",
   "name": "python",
   "nbconvert_exporter": "python",
   "pygments_lexer": "ipython3",
   "version": "3.12.7"
  }
 },
 "nbformat": 4,
 "nbformat_minor": 2
}
